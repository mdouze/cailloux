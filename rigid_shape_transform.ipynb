{
 "cells": [
  {
   "cell_type": "code",
   "execution_count": 1,
   "id": "fd433792",
   "metadata": {},
   "outputs": [],
   "source": [
    "import numpy as np"
   ]
  },
  {
   "cell_type": "code",
   "execution_count": 3,
   "id": "aa8428cf",
   "metadata": {},
   "outputs": [],
   "source": [
    "from matplotlib import pyplot"
   ]
  },
  {
   "cell_type": "code",
   "execution_count": null,
   "id": "a147cffa",
   "metadata": {},
   "outputs": [],
   "source": []
  },
  {
   "cell_type": "code",
   "execution_count": 24,
   "id": "2a6c518f",
   "metadata": {},
   "outputs": [],
   "source": [
    "def solve_2nd_degree(a, b, c): \n",
    "    delta = b ** 2 - 4 * a * c\n",
    "    if delta < 0: \n",
    "        raise ValueError(\"no solution\")\n",
    "    return (\n",
    "        (-b + np.sqrt(delta)) / (2 * a),\n",
    "        (-b - np.sqrt(delta)) / (2 * a)\n",
    "    )\n"
   ]
  },
  {
   "cell_type": "code",
   "execution_count": 33,
   "id": "a9689449",
   "metadata": {},
   "outputs": [],
   "source": [
    "# test \n",
    "\n",
    "a, b, c = 1.3, -4.5, 2.7\n",
    "for x in solve_2nd_degree(a, b, c): \n",
    "    np.testing.assert_almost_equal(a * x ** 2 + b * x + c, 0)\n"
   ]
  },
  {
   "cell_type": "code",
   "execution_count": 30,
   "id": "3c8b1c36",
   "metadata": {},
   "outputs": [],
   "source": [
    "def solve_2_constrained(alpha, beta, gamma):\n",
    "    \"\"\" \n",
    "    solve alpha * c + beta * s = gamma\n",
    "    st c^2 + s^2 = 1\n",
    "    \"\"\"\n",
    "    # numerical stability \n",
    "    # if abs(beta) > abs(alpha): \n",
    "    s0, s1 = solve_2nd_degree(\n",
    "        alpha ** 2 + beta ** 2, \n",
    "        - 2 * gamma * beta, \n",
    "        gamma ** 2 - alpha ** 2        \n",
    "    )\n",
    "    return [\n",
    "        ((gamma - beta * s) / alpha, s)\n",
    "        for s in (s0, s1)\n",
    "    ]\n",
    "    "
   ]
  },
  {
   "cell_type": "code",
   "execution_count": 47,
   "id": "e6d03f26",
   "metadata": {},
   "outputs": [],
   "source": [
    "alpha, beta, gamma = 1.3, -4.5, 2.7\n",
    "# alpha, beta, gamma = 0.921071118888964, 0.3688887849709659, 0.3159564210598485\n",
    "for c, s in solve_2_constrained(alpha, beta, gamma): \n",
    "    np.testing.assert_almost_equal(alpha * c + beta * s, gamma)\n",
    "    np.testing.assert_almost_equal(c ** 2 + s ** 2, 1.0)\n"
   ]
  },
  {
   "cell_type": "code",
   "execution_count": 64,
   "id": "9e1aafd3",
   "metadata": {},
   "outputs": [],
   "source": [
    "\n",
    "def solve_4x3_constrained(A, b): \n",
    "    \"\"\" \n",
    "    Solve A * x = b\n",
    "    with A 4*3 and the constraint that x[2] ** 2 + x[3] ** 2 = 1\n",
    "    \"\"\"\n",
    "    A1 = A[:, :2]\n",
    "    A2 = A[:, 2:]    \n",
    "    Q, R = np.linalg.qr(A1, mode='complete')\n",
    "    # print(R)\n",
    "    # print(Q)\n",
    "    \n",
    "    Qb = Q.T @ b.reshape(3, 1)\n",
    "    QA = Q.T @ A2\n",
    "    alpha, beta = QA[2]\n",
    "    gamma = Qb[2, 0]\n",
    "    # print(alpha, beta, gamma)\n",
    "    \n",
    "    res = []\n",
    "    for c, s in solve_2_constrained(alpha, beta, gamma): \n",
    "        q3 = (Q.T @ (b.reshape(3, 1) - A2 @ np.array([[c], [s]])))\n",
    "        xc, yc = np.linalg.solve(R[:2], q3[:2]).ravel()\n",
    "        res.append(np.array((xc, yc, c, s)))\n",
    "    return res"
   ]
  },
  {
   "cell_type": "code",
   "execution_count": 90,
   "id": "f33a1170",
   "metadata": {},
   "outputs": [],
   "source": [
    "rs = np.random.RandomState(1233)\n",
    "A = rs.normal(size=(3, 4))\n",
    "b = rs.normal(size=3)\n",
    "\n",
    "for xx in solve_4x3_constrained(A, b): \n",
    "    np.testing.assert_array_almost_equal(\n",
    "        (A @ xx.reshape(4, 1)).ravel(), b)\n",
    "    np.testing.assert_almost_equal(xx[2] ** 2 + xx[3] ** 2, 1)"
   ]
  },
  {
   "cell_type": "code",
   "execution_count": 106,
   "id": "9361e3a5",
   "metadata": {},
   "outputs": [],
   "source": [
    "def find_transfo_3pt_line(points, segs): \n",
    "    \"\"\" \n",
    "    Find rigid transformation that maps a0 to segment (b0, c0), a1 to (b1, c1) etc.\n",
    "    parameterization of transofrmation: \n",
    "    t([x, y]) = [xc, yc]' + [c, s;-s, c] * [x, y]'\n",
    "    \"\"\"\n",
    "    # eq is A * [xc, yc, c, s]' = B\n",
    "    A = np.zeros((3, 4))\n",
    "    B = np.zeros(3)\n",
    "    i = 0\n",
    "    for p, (q, r) in zip(points, segs): \n",
    "        # eq of segment: a.z = b\n",
    "        a = np.array((q[1] - r[1], r[0] - q[0]))\n",
    "        b = np.dot(a, q)\n",
    "        # \n",
    "        A[i, :2] = a\n",
    "        A[i, 2] =  a[0] * p[0] + a[1] * p[1]\n",
    "        A[i, 3] = -a[0] * p[1] + a[1] * p[0]\n",
    "        B[i] = b\n",
    "        i += 1\n",
    "    \n",
    "    return solve_4x3_constrained(A, B)\n"
   ]
  },
  {
   "cell_type": "code",
   "execution_count": 108,
   "id": "aa1cdbb6",
   "metadata": {},
   "outputs": [],
   "source": [
    "rs = np.random.RandomState(1283)\n",
    "\n",
    "points = rs.randn(3, 2)\n",
    "segs = rs.randn(3, 2, 2)\n",
    "\n",
    "for xc, yc, c, s in find_transfo_3pt_line(points, segs): \n",
    "    for i in range(3): \n",
    "        x, y = points[i]\n",
    "        q, r = segs[i]\n",
    "        a = np.array((q[1] - r[1], r[0] - q[0]))\n",
    "        b = np.dot(a, q)\n",
    "        pt = np.array([\n",
    "           xc + c * x - s * y, \n",
    "           yc + s * x + c * y           \n",
    "        ])\n",
    "        np.testing.assert_almost_equal(np.dot(pt, a), b)\n",
    "\n"
   ]
  },
  {
   "cell_type": "code",
   "execution_count": 113,
   "id": "5063f3b2",
   "metadata": {},
   "outputs": [
    {
     "data": {
      "image/png": "[encoded data removed]",
      "text/plain": [
       "<Figure size 432x288 with 1 Axes>"
      ]
     },
     "metadata": {
      "needs_background": "light"
     },
     "output_type": "display_data"
    }
   ],
   "source": [
    "A = np.array([\n",
    "    (0.23, 1.232), \n",
    "    (1.03, 0.2323), \n",
    "    (2.109, 0.354), \n",
    "    (3.9, 2.13434), \n",
    "    (1.523, 3.1233)   \n",
    "])\n",
    "\n",
    "B = np.array([\n",
    "    (-0.5212, 0.0452334), \n",
    "    (1.232, 1.04545), \n",
    "    (0.12221, 2.732)   \n",
    "])\n",
    "\n",
    "pyplot.plot(A[:, 0], A[:, 1], 'o-') \n",
    "pyplot.plot(B[:, 0], B[:, 1], 'o-') \n",
    "pyplot.grid()"
   ]
  },
  {
   "cell_type": "code",
   "execution_count": 114,
   "id": "e0e14158",
   "metadata": {},
   "outputs": [
    {
     "data": {
      "image/png": "[encoded data removed]",
      "text/plain": [
       "<Figure size 432x288 with 1 Axes>"
      ]
     },
     "metadata": {
      "needs_background": "light"
     },
     "output_type": "display_data"
    }
   ],
   "source": [
    "res = find_transfo_3pt_line(\n",
    "    B, \n",
    "    [\n",
    "        (A[0], A[1]), \n",
    "        (A[2], A[3]), \n",
    "        (A[3], A[4])\n",
    "    ]\n",
    ")\n",
    "\n",
    "pyplot.plot(A[:, 0], A[:, 1], 'o-') \n",
    "\n",
    "for xc, yc, c, s in res: \n",
    "    Bt = np.array([\n",
    "        (xc + c * x - s * y, yc + s * x + c * y)\n",
    "        for x, y in B        \n",
    "    ])\n",
    "    pyplot.plot(Bt[:, 0], Bt[:, 1], 'o-') \n",
    "\n",
    "pyplot.grid()\n"
   ]
  },
  {
   "cell_type": "code",
   "execution_count": null,
   "id": "d5da280a",
   "metadata": {},
   "outputs": [],
   "source": []
  }
 ],
 "metadata": {
  "kernelspec": {
   "display_name": "Python 3 (ipykernel)",
   "language": "python",
   "name": "python3"
  },
  "language_info": {
   "codemirror_mode": {
    "name": "ipython",
    "version": 3
   },
   "file_extension": ".py",
   "mimetype": "text/x-python",
   "name": "python",
   "nbconvert_exporter": "python",
   "pygments_lexer": "ipython3",
   "version": "3.8.11"
  }
 },
 "nbformat": 4,
 "nbformat_minor": 5
}
